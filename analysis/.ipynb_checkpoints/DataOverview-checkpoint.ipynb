{
 "metadata": {
  "name": "",
  "signature": "sha256:e61cc71e1162c4ead3ff0de17cd8ae3ac3ff4585bda897e1d81e6b3d1c90cfa4"
 },
 "nbformat": 3,
 "nbformat_minor": 0,
 "worksheets": []
}